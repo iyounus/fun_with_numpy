{
 "cells": [
  {
   "cell_type": "markdown",
   "metadata": {},
   "source": [
    "# Implementation of _kNN_ using `numpy`"
   ]
  },
  {
   "cell_type": "code",
   "execution_count": 1,
   "metadata": {
    "collapsed": false
   },
   "outputs": [],
   "source": [
    "from __future__ import division\n",
    "import numpy as np\n",
    "\n",
    "from collections import Counter\n",
    "\n",
    "def euclidean_distance(a, b):\n",
    "    return np.linalg.norm(a-b)\n",
    "\n",
    "def cosine_distance(a, b):\n",
    "    a_mod = np.linalg.norm(a)\n",
    "    b_mod = np.linalg.norm(b)\n",
    "\n",
    "    return a.dot(b)/a_mod/b_mod\n",
    "\n",
    "\n",
    "class KNearestNeighbors(object):\n",
    "\n",
    "    def __init__(self, k=5, distance=euclidean_distance):\n",
    "        self.k = k\n",
    "        self.distance = distance\n",
    "\n",
    "    def fit(self, X, y):\n",
    "        self.X_train = X\n",
    "        self.y_train = y\n",
    "\n",
    "    def predict(self, X_test):\n",
    "        '''\n",
    "        INPUT numpy array\n",
    "        Find the distance of all test points with all points in the data matrix\n",
    "        '''\n",
    "        return np.apply_along_axis(self.classify, 1, X_test)\n",
    "\n",
    "    def classify(self, x):\n",
    "        '''\n",
    "        INPUT numpy array\n",
    "        \n",
    "        Find distance of input point from all the points in data matrix\n",
    "        '''\n",
    "        dist = np.apply_along_axis(lambda x_i: self.distance(x_i, x), 1,self.X_train)\n",
    "        yk = self.y_train[dist.argsort()][:self.k]\n",
    "        \n",
    "        return Counter(yk).most_common(1)[0][0]"
   ]
  },
  {
   "cell_type": "markdown",
   "metadata": {},
   "source": [
    "### Use case"
   ]
  },
  {
   "cell_type": "code",
   "execution_count": 2,
   "metadata": {
    "collapsed": true
   },
   "outputs": [],
   "source": [
    "from sklearn import datasets\n",
    "iris = datasets.load_iris()\n",
    "X = iris.data\n",
    "y = iris.target"
   ]
  },
  {
   "cell_type": "code",
   "execution_count": 3,
   "metadata": {
    "collapsed": true
   },
   "outputs": [],
   "source": [
    "from sklearn.cross_validation import train_test_split\n",
    "X_train, X_test, y_train, y_test = train_test_split(X, y, test_size=0.2)"
   ]
  },
  {
   "cell_type": "code",
   "execution_count": 4,
   "metadata": {
    "collapsed": true
   },
   "outputs": [],
   "source": [
    "knn = KNearestNeighbors(5, euclidean_distance)\n",
    "knn.fit(X_train, y_train)\n",
    "y_pred = knn.predict(X_test)"
   ]
  },
  {
   "cell_type": "code",
   "execution_count": 5,
   "metadata": {
    "collapsed": true
   },
   "outputs": [],
   "source": [
    "def error_rate(y_test, y_pred):\n",
    "    return sum([1 for yt,yp in zip(y_test,y_pred) if yt != yp]) / len(y_pred)\n",
    "\n",
    "def accuracy(y_test, y_pred):\n",
    "    return 1 - error_rate(y_test,y_pred)"
   ]
  },
  {
   "cell_type": "code",
   "execution_count": 6,
   "metadata": {
    "collapsed": false
   },
   "outputs": [
    {
     "name": "stdout",
     "output_type": "stream",
     "text": [
      "Error rate:  0.0333333333333\n",
      "Accuracy:  0.966666666667\n"
     ]
    }
   ],
   "source": [
    "print \"Error rate: \", error_rate(y_test, y_pred)\n",
    "print \"Accuracy: \", accuracy(y_test, y_pred)"
   ]
  },
  {
   "cell_type": "code",
   "execution_count": null,
   "metadata": {
    "collapsed": true
   },
   "outputs": [],
   "source": []
  }
 ],
 "metadata": {
  "kernelspec": {
   "display_name": "Python 2",
   "language": "python",
   "name": "python2"
  },
  "language_info": {
   "codemirror_mode": {
    "name": "ipython",
    "version": 2
   },
   "file_extension": ".py",
   "mimetype": "text/x-python",
   "name": "python",
   "nbconvert_exporter": "python",
   "pygments_lexer": "ipython2",
   "version": "2.7.10"
  }
 },
 "nbformat": 4,
 "nbformat_minor": 0
}
