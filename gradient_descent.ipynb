{
 "cells": [
  {
   "cell_type": "code",
   "execution_count": 1,
   "metadata": {
    "collapsed": false
   },
   "outputs": [],
   "source": [
    "from __future__ import division\n",
    "import numpy as np\n",
    "import matplotlib.pyplot as plt\n",
    "from mpl_toolkits.mplot3d import Axes3D\n",
    "from matplotlib import cm\n",
    "%matplotlib inline"
   ]
  },
  {
   "cell_type": "markdown",
   "metadata": {},
   "source": [
    "# Linear Regression"
   ]
  },
  {
   "cell_type": "markdown",
   "metadata": {},
   "source": [
    "The simplest curve to fit the data is a hyperplane:\n",
    "\n",
    "$$f({\\bf x}) = \\beta_0 + \\beta_1 x_1 + \\cdots + \\beta_d x_d = {\\bf \\beta}^T {\\bf x}$$\n",
    "\n",
    "Here ${\\bf \\beta} = [\\beta_0 ~~ \\beta_1 ~~ \\cdots ~~ \\beta_d]^T$, and $x_0 = 1$."
   ]
  },
  {
   "cell_type": "markdown",
   "metadata": {},
   "source": [
    "### Data Matrix\n",
    "\n",
    "$${\\bf X} = \\begin{bmatrix} {\\bf x}_1^T \\\\ {\\bf x}_2^T \\\\ \\vdots \\\\ {\\bf x}_n^T \\end{bmatrix} = \\begin{bmatrix} {\\bf X}_0 & {\\bf X}_1 & \\cdots & {\\bf X}_d \\end{bmatrix}$$\n",
    "\n",
    "${\\bf X}_0$ is a column of ones."
   ]
  },
  {
   "cell_type": "markdown",
   "metadata": {},
   "source": [
    "The coefficients $\\beta$ can be found using\n",
    "\n",
    "$${\\bf \\beta} = \\left( {\\bf X}^T{\\bf X} \\right)^{-1} {\\bf X}^T {\\bf y}$$\n",
    "\n",
    "Here ${\\bf y} = \\left[ y_1 ~~ y_2 ~~ \\cdots ~~ y_n \\right]^T$ is the targer vector.\n",
    "\n",
    "RSS: ${\\bf e}^T {\\bf e}$ where ${\\bf e} = ({\\bf X\\beta} - {\\bf y})$. "
   ]
  },
  {
   "cell_type": "code",
   "execution_count": 2,
   "metadata": {
    "collapsed": false
   },
   "outputs": [],
   "source": [
    "data = np.genfromtxt('pull_strength.csv', delimiter=',', skip_header=1)\n",
    "y = data[:,0:1]\n",
    "X = data[:,1:3]"
   ]
  },
  {
   "cell_type": "code",
   "execution_count": 3,
   "metadata": {
    "collapsed": false
   },
   "outputs": [
    {
     "name": "stdout",
     "output_type": "stream",
     "text": [
      "beta:\n",
      "[[ 2.26379143]\n",
      " [ 2.74426964]\n",
      " [ 0.01252781]]\n",
      "\n",
      "RSS:  4.60693931122\n"
     ]
    }
   ],
   "source": [
    "X = np.hstack((np.ones([y.shape[0],1]), X))\n",
    "b = np.linalg.inv(X.T.dot(X)).dot(X.T.dot(y))\n",
    "print 'beta:\\n', b\n",
    "\n",
    "e = X.dot(b) - y #error vector\n",
    "print \"\\nRSS: \", e.T.dot(e)[0][0]/len(y)"
   ]
  },
  {
   "cell_type": "markdown",
   "metadata": {},
   "source": [
    "# Gradient Descent"
   ]
  },
  {
   "cell_type": "markdown",
   "metadata": {},
   "source": [
    "Cost function:\n",
    "\n",
    "$$J({\\bf \\beta}) = ({\\bf X \\beta} - {\\bf y})^T ({\\bf X \\beta} - {\\bf y})$$\n",
    "\n",
    "Derivatives of $J$ w.r.t $\\beta_j$\n",
    "\n",
    "$$\\frac{\\partial J}{\\partial \\beta_j} = 2 {\\bf X}_j^T ({\\bf X \\beta} - {\\bf y})$$\n",
    "\n",
    "Gradient of the cost function:\n",
    "\n",
    "$$\\nabla J({\\bf \\beta}) = \\left[ \\frac{\\partial J}{\\partial \\beta_0} ~~ \\frac{\\partial J}{\\partial \\beta_1} ~~ \\cdots ~~ \\frac{\\partial J}{\\partial \\beta_d} \\right]^T$$"
   ]
  },
  {
   "cell_type": "markdown",
   "metadata": {},
   "source": [
    "Suppose that $J$ has a minimum at ${\\hat{\\bf \\beta}}$. We start at some $\\bf \\beta$ (close to $\\hat{\\bf \\beta}$) and we look for the minimum of $J$ close to $\\bf \\beta$ along the straight line in the direction of $-{\\bf \\nabla} J({\\bf \\beta})$, which is the direction of steepest descent (= direction of maximum decrease) of $J$ at $\\bf \\beta$:\n",
    "\n",
    "$${\\bf \\beta}'(\\alpha) = {\\bf \\beta} - \\alpha {\\bf \\nabla} J({\\bf \\beta})$$"
   ]
  },
  {
   "cell_type": "code",
   "execution_count": 4,
   "metadata": {
    "collapsed": false
   },
   "outputs": [
    {
     "name": "stdout",
     "output_type": "stream",
     "text": [
      "the minimum occurs at \n",
      "[[ 2.00010865]\n",
      " [ 2.00170912]\n",
      " [ 0.02935273]]\n",
      "\n",
      "RSS:  20.6599254633\n"
     ]
    },
    {
     "data": {
      "image/png": "[encoded data removed]",
      "text/plain": [
       "<matplotlib.figure.Figure at 0x7fb755115950>"
      ]
     },
     "metadata": {},
     "output_type": "display_data"
    }
   ],
   "source": [
    "b0 = np.array([[2],[2],[0]])  # starting point\n",
    "a = 0.0000001  # learning rate\n",
    "\n",
    "# use X matrix from above\n",
    "\n",
    "def cost_func(b):\n",
    "    e = X.dot(b) - y\n",
    "    return e.T.dot(e)[0][0]\n",
    "\n",
    "def derivative_J(j, b):\n",
    "    Xj = X[:,j].reshape(len(X),1)\n",
    "    return Xj.T.dot(X.dot(b) - y)[0]/len(X)\n",
    "\n",
    "def grad_J(b):\n",
    "    grad = [derivative_J(j, b) for j in range(len(b))]\n",
    "    return np.array(grad)\n",
    "\n",
    "\n",
    "# gradient descent\n",
    "J = []\n",
    "N_itr = 500\n",
    "for i in range(N_itr):\n",
    "    b0 = b0 - a*grad_J(b0)\n",
    "    J.append(cost_func(b0))\n",
    "\n",
    "\n",
    "plt.plot(range(len(J)), J)\n",
    "print \"the minimum occurs at \\n\", b0\n",
    "\n",
    "e = X.dot(b0) - y #error vector\n",
    "print \"\\nRSS: \", e.T.dot(e)[0][0]/len(y)"
   ]
  },
  {
   "cell_type": "markdown",
   "metadata": {},
   "source": [
    "# Stochastic Gradient Descent"
   ]
  },
  {
   "cell_type": "markdown",
   "metadata": {},
   "source": [
    "Compute the gradient for each iteration on the basis of single randomly picked examle ${\\bf x}_i$:\n",
    "\n",
    "$${\\bf \\beta}_j' = {\\bf \\beta}_j - \\alpha (\\beta^T {\\bf x}_i - y_i) x_{ij}$$\n",
    "\n",
    "Since, we have very few points, we'll not pick examples randomly. But still update $\\beta$ for each data point ${\\bf x}_i$."
   ]
  },
  {
   "cell_type": "code",
   "execution_count": 5,
   "metadata": {
    "collapsed": false
   },
   "outputs": [
    {
     "name": "stdout",
     "output_type": "stream",
     "text": [
      "the minimum occurs at \n",
      "[ 2.00016939  2.00333335  0.02957334]\n",
      "\n",
      "RSS:  20.598382691\n"
     ]
    },
    {
     "data": {
      "text/plain": [
       "[<matplotlib.lines.Line2D at 0x7fb733c71e10>]"
      ]
     },
     "execution_count": 5,
     "metadata": {},
     "output_type": "execute_result"
    },
    {
     "data": {
      "image/png": "[encoded data removed]",
      "text/plain": [
       "<matplotlib.figure.Figure at 0x7fb733d3f110>"
      ]
     },
     "metadata": {},
     "output_type": "display_data"
    }
   ],
   "source": [
    "b0 = np.array([2.,2.,0.])  # starting point\n",
    "a = 0.0000001  # learning rate\n",
    "\n",
    "J = []\n",
    "\n",
    "for n in range(50):\n",
    "    for i in range(len(y)):\n",
    "        for j in range(len(b0)):\n",
    "            b0[j] = b0[j] - a*(b0.dot(X[i]) - y[i][0])*X[i][j]\n",
    "            J.append(cost_func(b0))\n",
    "            \n",
    "print \"the minimum occurs at \\n\", b0\n",
    "\n",
    "e = X.dot(b0.reshape(3,1)) - y #error vector\n",
    "print \"\\nRSS: \", e.T.dot(e)[0][0]/len(y)\n",
    "\n",
    "plt.plot(range(len(J)), J)"
   ]
  },
  {
   "cell_type": "code",
   "execution_count": null,
   "metadata": {
    "collapsed": true
   },
   "outputs": [],
   "source": []
  }
 ],
 "metadata": {
  "kernelspec": {
   "display_name": "Python 2",
   "language": "python",
   "name": "python2"
  },
  "language_info": {
   "codemirror_mode": {
    "name": "ipython",
    "version": 2
   },
   "file_extension": ".py",
   "mimetype": "text/x-python",
   "name": "python",
   "nbconvert_exporter": "python",
   "pygments_lexer": "ipython2",
   "version": "2.7.10"
  }
 },
 "nbformat": 4,
 "nbformat_minor": 0
}
